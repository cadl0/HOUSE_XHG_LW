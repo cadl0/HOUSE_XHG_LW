{
  "nbformat": 4,
  "nbformat_minor": 0,
  "metadata": {
    "colab": {
      "provenance": [],
      "include_colab_link": true
    },
    "kernelspec": {
      "name": "python3",
      "display_name": "Python 3"
    },
    "language_info": {
      "name": "python"
    }
  },
  "cells": [
    {
      "cell_type": "markdown",
      "metadata": {
        "id": "view-in-github",
        "colab_type": "text"
      },
      "source": [
        "<a href=\"https://colab.research.google.com/github/cadl0/HOUSE_XHG_LW/blob/main/house_exchange_TEST1.ipynb\" target=\"_parent\"><img src=\"https://colab.research.google.com/assets/colab-badge.svg\" alt=\"Open In Colab\"/></a>"
      ]
    },
    {
      "cell_type": "markdown",
      "source": [],
      "metadata": {
        "id": "UfNBqM6XR3LE"
      }
    },
    {
      "cell_type": "code",
      "source": [
        "from google.colab import auth\n",
        "auth.authenticate_user()\n",
        "\n",
        "from google.cloud import bigquery\n",
        "\n",
        "client = bigquery.Client(project='data-analytics-bootcamp-432314')\n",
        "\n",
        "query = \"\"\"\n",
        "SELECT *\n",
        "FROM `data-analytics-bootcamp-432314.home_exchange.exchanges`\n",
        "\"\"\"\n",
        "\n",
        "query_job = client.query(query)\n",
        "results = query_job.result()\n",
        "df_exchanges = results.to_dataframe()\n",
        "\n",
        "print(df_exchanges.head())\n",
        "df_exchanges.to_csv('data_exchanges.csv', index=False, sep=',', encoding='utf-8')"
      ],
      "metadata": {
        "colab": {
          "base_uri": "https://localhost:8080/"
        },
        "id": "2j1ZwL8ccxZ2",
        "outputId": "e02c2d77-eac2-47c9-86ab-f05fcb5e8c9e"
      },
      "execution_count": 11,
      "outputs": [
        {
          "output_type": "stream",
          "name": "stdout",
          "text": [
            "   conversation_id  exchange_id  created_at  creator_id  guest_user_id  \\\n",
            "0         45711461     68386897  2022-06-17     3924597        3924597   \n",
            "1         41802964     63946075  2021-10-12     3836374        3836374   \n",
            "2         46523523     69271507  2022-08-05      456216         456216   \n",
            "3         43221370     65553517  2022-02-11      612681         612681   \n",
            "4         42746492     65005087  2022-01-15     1399611        1399611   \n",
            "\n",
            "   host_user_id finalized_at canceled_at    start_on      end_on  ...  \\\n",
            "0        759980          NaT         NaT  2022-08-06  2022-08-13  ...   \n",
            "1       2418567          NaT         NaT  2021-10-23  2021-10-28  ...   \n",
            "2       1232900          NaT         NaT  2022-10-23  2022-10-30  ...   \n",
            "3       3544183          NaT         NaT  2022-04-16  2022-04-23  ...   \n",
            "4       3905924          NaT         NaT  2022-07-16  2022-08-06  ...   \n",
            "\n",
            "   night_count  user_cancellation_id   exchange_type  home_type  \\\n",
            "0            7                  <NA>  NON_RECIPROCAL  apartment   \n",
            "1            5                  <NA>  NON_RECIPROCAL       Home   \n",
            "2            7                  <NA>  NON_RECIPROCAL       Home   \n",
            "3            7                  <NA>      RECIPROCAL       Home   \n",
            "4           21                  <NA>  NON_RECIPROCAL       Home   \n",
            "\n",
            "  residence_type capacity  country     region department    city  \n",
            "0        primary        2      FRA  Occitanie    Hérault    Sète  \n",
            "1        primary        6      FRA  Occitanie    Hérault    Sète  \n",
            "2        primary       16      FRA  Occitanie    Hérault  Gignac  \n",
            "3        primary        6      FRA  Occitanie    Hérault  Lodève  \n",
            "4        primary       14      FRA  Occitanie    Hérault  Pérols  \n",
            "\n",
            "[5 rows x 21 columns]\n"
          ]
        }
      ]
    },
    {
      "cell_type": "code",
      "source": [
        "from google.colab import auth\n",
        "auth.authenticate_user()\n",
        "import pandas as pd\n",
        "from google.cloud import bigquery\n",
        "\n",
        "client = bigquery.Client(project='data-analytics-bootcamp-432314')\n",
        "\n",
        "query = \"\"\"\n",
        "SELECT *\n",
        "FROM `data-analytics-bootcamp-432314.home_exchange.subscriptions`\n",
        "\"\"\"\n",
        "\n",
        "query_job = client.query(query)\n",
        "results = query_job.result()\n",
        "df_subscriptions = results.to_dataframe()\n",
        "\n",
        "print(df_subscriptions.head())\n",
        "df_subscriptions.to_csv('data_subscriptions.csv', index=False, sep=',', encoding='utf-8')"
      ],
      "metadata": {
        "colab": {
          "base_uri": "https://localhost:8080/"
        },
        "id": "AURrYldbczoa",
        "outputId": "38631b76-45bd-4214-a314-183e8f6fda0a"
      },
      "execution_count": 12,
      "outputs": [
        {
          "output_type": "stream",
          "name": "stdout",
          "text": [
            "  subscription_date  user_id  renew first_subscription_date  \\\n",
            "0        2021-10-16   246592      0              2018-10-06   \n",
            "1        2020-04-07  1258705      1              2010-06-02   \n",
            "2        2021-10-19  2219682      1              2014-03-24   \n",
            "3        2021-08-26  1349069      1              2011-01-27   \n",
            "4        2020-01-02  1418685      1              2012-01-01   \n",
            "\n",
            "   first_subscription  referral  promotion  payment3x  payment2  payment3  \\\n",
            "0                   0         0          0          0         0         0   \n",
            "1                   0         0          0          0         0         0   \n",
            "2                   0         0          0          0         0         0   \n",
            "3                   0         0          0          0         0         0   \n",
            "4                   0         0          0          0         0         0   \n",
            "\n",
            "  country region department        city  \n",
            "0     FRA   None       None    Aussonne  \n",
            "1    None   None       None        None  \n",
            "2    None   None       None        None  \n",
            "3     DNK   None       None  Ærøskøbing  \n",
            "4    None   None       None        None  \n"
          ]
        }
      ]
    }
  ]
}